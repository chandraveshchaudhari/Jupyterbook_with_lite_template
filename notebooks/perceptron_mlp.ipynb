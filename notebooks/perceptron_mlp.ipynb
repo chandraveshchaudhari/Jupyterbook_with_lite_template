{
 "cells": [
  {
   "cell_type": "markdown",
   "id": "c15c347f",
   "metadata": {},
   "source": [
    "# Perceptron & MLP"
   ]
  },
  {
   "cell_type": "code",
   "execution_count": null,
   "id": "6e2e22f9",
   "metadata": {},
   "outputs": [],
   "source": [
    "# Your code here"
   ]
  }
 ],
 "metadata": {},
 "nbformat": 4,
 "nbformat_minor": 5
}
