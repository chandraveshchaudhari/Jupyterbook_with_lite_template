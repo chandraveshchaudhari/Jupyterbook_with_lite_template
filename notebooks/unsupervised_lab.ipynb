{
 "cells": [
  {
   "cell_type": "markdown",
   "id": "498e7a2b",
   "metadata": {},
   "source": [
    "# Lab – Customer Segmentation"
   ]
  },
  {
   "cell_type": "code",
   "execution_count": null,
   "id": "2c40fa0b",
   "metadata": {},
   "outputs": [],
   "source": [
    "# Your code here"
   ]
  }
 ],
 "metadata": {},
 "nbformat": 4,
 "nbformat_minor": 5
}
