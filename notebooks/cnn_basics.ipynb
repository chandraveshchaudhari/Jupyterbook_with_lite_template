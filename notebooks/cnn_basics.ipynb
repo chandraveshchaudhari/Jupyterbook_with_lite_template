{
 "cells": [
  {
   "cell_type": "markdown",
   "id": "9dcf8ffb",
   "metadata": {},
   "source": [
    "# CNN Basics"
   ]
  },
  {
   "cell_type": "code",
   "execution_count": null,
   "id": "fe3d8ed1",
   "metadata": {},
   "outputs": [],
   "source": [
    "# Your code here"
   ]
  }
 ],
 "metadata": {},
 "nbformat": 4,
 "nbformat_minor": 5
}
