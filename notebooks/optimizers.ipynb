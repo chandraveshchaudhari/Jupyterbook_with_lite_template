{
 "cells": [
  {
   "cell_type": "markdown",
   "id": "ee17ac40",
   "metadata": {},
   "source": [
    "# Advanced Optimizers (Adam, etc.)"
   ]
  },
  {
   "cell_type": "code",
   "execution_count": null,
   "id": "47b9e8c9",
   "metadata": {},
   "outputs": [],
   "source": [
    "# Your code here"
   ]
  }
 ],
 "metadata": {},
 "nbformat": 4,
 "nbformat_minor": 5
}
