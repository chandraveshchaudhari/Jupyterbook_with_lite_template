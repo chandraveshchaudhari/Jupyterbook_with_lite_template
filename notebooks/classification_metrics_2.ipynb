{
 "cells": [
  {
   "cell_type": "markdown",
   "id": "d44edcb8",
   "metadata": {},
   "source": [
    "# Classification Metrics"
   ]
  },
  {
   "cell_type": "code",
   "execution_count": null,
   "id": "7ca6755f",
   "metadata": {},
   "outputs": [],
   "source": [
    "# Your code here"
   ]
  }
 ],
 "metadata": {},
 "nbformat": 4,
 "nbformat_minor": 5
}
