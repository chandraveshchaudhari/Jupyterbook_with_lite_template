{
 "cells": [
  {
   "cell_type": "markdown",
   "id": "2a87acc0",
   "metadata": {},
   "source": [
    "# Lab – CLV Estimation"
   ]
  },
  {
   "cell_type": "code",
   "execution_count": null,
   "id": "464052df",
   "metadata": {},
   "outputs": [],
   "source": [
    "# Your code here"
   ]
  }
 ],
 "metadata": {},
 "nbformat": 4,
 "nbformat_minor": 5
}
