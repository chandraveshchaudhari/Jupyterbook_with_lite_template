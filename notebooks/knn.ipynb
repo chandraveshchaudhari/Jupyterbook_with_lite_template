{
 "cells": [
  {
   "cell_type": "markdown",
   "id": "8964ec84",
   "metadata": {},
   "source": [
    "# Distance-Based & Instance Methods"
   ]
  },
  {
   "cell_type": "code",
   "execution_count": null,
   "id": "fbe5d622",
   "metadata": {},
   "outputs": [],
   "source": [
    "# Your code here"
   ]
  }
 ],
 "metadata": {},
 "nbformat": 4,
 "nbformat_minor": 5
}
