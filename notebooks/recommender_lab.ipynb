{
 "cells": [
  {
   "cell_type": "markdown",
   "id": "db615d97",
   "metadata": {},
   "source": [
    "# Lab – Market Basket & Recommendations"
   ]
  },
  {
   "cell_type": "code",
   "execution_count": null,
   "id": "b8fbf757",
   "metadata": {},
   "outputs": [],
   "source": [
    "# Your code here"
   ]
  }
 ],
 "metadata": {},
 "nbformat": 4,
 "nbformat_minor": 5
}
