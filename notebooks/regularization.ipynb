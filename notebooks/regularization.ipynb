{
 "cells": [
  {
   "cell_type": "markdown",
   "id": "f5a58a1b",
   "metadata": {},
   "source": [
    "# Regularization (Ridge, Lasso, Elastic Net)"
   ]
  },
  {
   "cell_type": "code",
   "execution_count": null,
   "id": "2f9ec115",
   "metadata": {},
   "outputs": [],
   "source": [
    "# Your code here"
   ]
  }
 ],
 "metadata": {},
 "nbformat": 4,
 "nbformat_minor": 5
}
