{
 "cells": [
  {
   "cell_type": "markdown",
   "id": "7941545d",
   "metadata": {},
   "source": [
    "# Cox Proportional Hazards"
   ]
  },
  {
   "cell_type": "code",
   "execution_count": null,
   "id": "268dcf2f",
   "metadata": {},
   "outputs": [],
   "source": [
    "# Your code here"
   ]
  }
 ],
 "metadata": {},
 "nbformat": 4,
 "nbformat_minor": 5
}
