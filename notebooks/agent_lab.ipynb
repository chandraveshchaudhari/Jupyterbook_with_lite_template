{
 "cells": [
  {
   "cell_type": "markdown",
   "id": "1847c759",
   "metadata": {},
   "source": [
    "# Lab – LangChain Agent for KPI Queries"
   ]
  },
  {
   "cell_type": "code",
   "execution_count": null,
   "id": "55004cc7",
   "metadata": {},
   "outputs": [],
   "source": [
    "# Your code here"
   ]
  }
 ],
 "metadata": {},
 "nbformat": 4,
 "nbformat_minor": 5
}
