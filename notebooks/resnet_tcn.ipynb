{
 "cells": [
  {
   "cell_type": "markdown",
   "id": "16f5a715",
   "metadata": {},
   "source": [
    "# ResNet & TCN"
   ]
  },
  {
   "cell_type": "code",
   "execution_count": null,
   "id": "64df75a2",
   "metadata": {},
   "outputs": [],
   "source": [
    "# Your code here"
   ]
  }
 ],
 "metadata": {},
 "nbformat": 4,
 "nbformat_minor": 5
}
