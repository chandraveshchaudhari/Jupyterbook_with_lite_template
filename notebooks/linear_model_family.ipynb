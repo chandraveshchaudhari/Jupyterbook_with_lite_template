{
 "cells": [
  {
   "cell_type": "markdown",
   "id": "1abec859",
   "metadata": {},
   "source": [
    "# Linear Model Family"
   ]
  },
  {
   "cell_type": "code",
   "execution_count": null,
   "id": "2f7e38db",
   "metadata": {},
   "outputs": [],
   "source": [
    "# Your code here"
   ]
  }
 ],
 "metadata": {},
 "nbformat": 4,
 "nbformat_minor": 5
}
