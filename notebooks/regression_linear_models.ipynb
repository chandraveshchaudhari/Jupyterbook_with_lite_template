{
 "cells": [
  {
   "cell_type": "markdown",
   "id": "bfb0f875",
   "metadata": {},
   "source": [
    "# Supervised Regression- Linear Models"
   ]
  },
  {
   "cell_type": "code",
   "execution_count": null,
   "id": "e47421ba",
   "metadata": {},
   "outputs": [],
   "source": [
    "# Your code here"
   ]
  }
 ],
 "metadata": {},
 "nbformat": 4,
 "nbformat_minor": 5
}
