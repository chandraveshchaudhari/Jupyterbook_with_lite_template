{
 "cells": [
  {
   "cell_type": "markdown",
   "id": "6dc3877e",
   "metadata": {},
   "source": [
    "# Feature Types & Encoding"
   ]
  },
  {
   "cell_type": "code",
   "execution_count": null,
   "id": "523d7f72",
   "metadata": {},
   "outputs": [],
   "source": [
    "# Your code here"
   ]
  }
 ],
 "metadata": {},
 "nbformat": 4,
 "nbformat_minor": 5
}
