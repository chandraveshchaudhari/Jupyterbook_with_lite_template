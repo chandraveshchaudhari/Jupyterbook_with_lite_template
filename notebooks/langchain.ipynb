{
 "cells": [
  {
   "cell_type": "markdown",
   "id": "034ff1a1",
   "metadata": {},
   "source": [
    "# LangChain & Tool-Augmented LLMs"
   ]
  },
  {
   "cell_type": "code",
   "execution_count": null,
   "id": "dabc7667",
   "metadata": {},
   "outputs": [],
   "source": [
    "# Your code here"
   ]
  }
 ],
 "metadata": {},
 "nbformat": 4,
 "nbformat_minor": 5
}
