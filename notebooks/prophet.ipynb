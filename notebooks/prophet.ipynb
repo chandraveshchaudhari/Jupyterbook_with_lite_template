{
 "cells": [
  {
   "cell_type": "markdown",
   "id": "bc9a8f11",
   "metadata": {},
   "source": [
    "# Prophet"
   ]
  },
  {
   "cell_type": "code",
   "execution_count": null,
   "id": "612482dd",
   "metadata": {},
   "outputs": [],
   "source": [
    "# Your code here"
   ]
  }
 ],
 "metadata": {},
 "nbformat": 4,
 "nbformat_minor": 5
}
