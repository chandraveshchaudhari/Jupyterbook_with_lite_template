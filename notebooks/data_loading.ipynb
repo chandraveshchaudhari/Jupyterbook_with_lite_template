{
 "cells": [
  {
   "cell_type": "markdown",
   "id": "50a4fe83",
   "metadata": {},
   "source": [
    "# Data Loading (CSV, Excel, SQL, APIs)"
   ]
  },
  {
   "cell_type": "code",
   "execution_count": null,
   "id": "71550ef2",
   "metadata": {},
   "outputs": [],
   "source": [
    "# Your code here"
   ]
  }
 ],
 "metadata": {},
 "nbformat": 4,
 "nbformat_minor": 5
}
