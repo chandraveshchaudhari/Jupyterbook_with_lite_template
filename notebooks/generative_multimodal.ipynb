{
 "cells": [
  {
   "cell_type": "markdown",
   "id": "c19d9b06",
   "metadata": {},
   "source": [
    "# Generative Models & Multimodal Learning"
   ]
  },
  {
   "cell_type": "code",
   "execution_count": null,
   "id": "f1c952f7",
   "metadata": {},
   "outputs": [],
   "source": [
    "# Your code here"
   ]
  }
 ],
 "metadata": {},
 "nbformat": 4,
 "nbformat_minor": 5
}
