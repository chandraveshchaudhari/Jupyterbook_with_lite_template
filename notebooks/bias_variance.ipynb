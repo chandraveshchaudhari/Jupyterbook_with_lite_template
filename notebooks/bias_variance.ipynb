{
 "cells": [
  {
   "cell_type": "markdown",
   "id": "432fe3e8",
   "metadata": {},
   "source": [
    "# Bias–Variance Tradeoff"
   ]
  },
  {
   "cell_type": "code",
   "execution_count": null,
   "id": "eb3e5da9",
   "metadata": {},
   "outputs": [],
   "source": [
    "# Your code here"
   ]
  }
 ],
 "metadata": {},
 "nbformat": 4,
 "nbformat_minor": 5
}
