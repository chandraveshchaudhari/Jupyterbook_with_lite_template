{
 "cells": [
  {
   "cell_type": "markdown",
   "id": "bac01638",
   "metadata": {},
   "source": [
    "# Time Series & Forecasting"
   ]
  },
  {
   "cell_type": "code",
   "execution_count": null,
   "id": "30eaa4a8",
   "metadata": {},
   "outputs": [],
   "source": [
    "# Your code here"
   ]
  }
 ],
 "metadata": {},
 "nbformat": 4,
 "nbformat_minor": 5
}
