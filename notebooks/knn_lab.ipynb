{
 "cells": [
  {
   "cell_type": "markdown",
   "id": "d7e2bbfb",
   "metadata": {},
   "source": [
    "# Lab – Customer Segmentation"
   ]
  },
  {
   "cell_type": "code",
   "execution_count": null,
   "id": "7328e07b",
   "metadata": {},
   "outputs": [],
   "source": [
    "# Your code here"
   ]
  }
 ],
 "metadata": {},
 "nbformat": 4,
 "nbformat_minor": 5
}
