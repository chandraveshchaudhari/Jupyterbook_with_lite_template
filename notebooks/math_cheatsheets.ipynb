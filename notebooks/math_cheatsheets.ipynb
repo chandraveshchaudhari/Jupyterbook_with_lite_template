{
 "cells": [
  {
   "cell_type": "markdown",
   "id": "d35142d4",
   "metadata": {},
   "source": [
    "# Math Cheat-Sheets"
   ]
  },
  {
   "cell_type": "code",
   "execution_count": null,
   "id": "a929a51c",
   "metadata": {},
   "outputs": [],
   "source": [
    "# Your code here"
   ]
  }
 ],
 "metadata": {},
 "nbformat": 4,
 "nbformat_minor": 5
}
