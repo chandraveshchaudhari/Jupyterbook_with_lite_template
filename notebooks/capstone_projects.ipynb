{
 "cells": [
  {
   "cell_type": "markdown",
   "id": "bedb0eb7",
   "metadata": {},
   "source": [
    "# Capstone Projects"
   ]
  },
  {
   "cell_type": "code",
   "execution_count": null,
   "id": "3b2832c8",
   "metadata": {},
   "outputs": [],
   "source": [
    "# Your code here"
   ]
  }
 ],
 "metadata": {},
 "nbformat": 4,
 "nbformat_minor": 5
}
