{
 "cells": [
  {
   "cell_type": "markdown",
   "id": "702e8813",
   "metadata": {},
   "source": [
    "# Lab – Fraud Detection"
   ]
  },
  {
   "cell_type": "code",
   "execution_count": null,
   "id": "eccccacc",
   "metadata": {},
   "outputs": [],
   "source": [
    "# Your code here"
   ]
  }
 ],
 "metadata": {},
 "nbformat": 4,
 "nbformat_minor": 5
}
