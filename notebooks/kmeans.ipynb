{
 "cells": [
  {
   "cell_type": "markdown",
   "id": "1eb0b7be",
   "metadata": {},
   "source": [
    "# K-Means"
   ]
  },
  {
   "cell_type": "code",
   "execution_count": null,
   "id": "fcb5c884",
   "metadata": {},
   "outputs": [],
   "source": [
    "# Your code here"
   ]
  }
 ],
 "metadata": {},
 "nbformat": 4,
 "nbformat_minor": 5
}
