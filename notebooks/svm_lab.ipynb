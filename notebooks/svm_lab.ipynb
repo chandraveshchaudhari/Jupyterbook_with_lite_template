{
 "cells": [
  {
   "cell_type": "markdown",
   "id": "12571448",
   "metadata": {},
   "source": [
    "# Lab – Sentiment Classification with SVM"
   ]
  },
  {
   "cell_type": "code",
   "execution_count": null,
   "id": "0d193ae1",
   "metadata": {},
   "outputs": [],
   "source": [
    "# Your code here"
   ]
  }
 ],
 "metadata": {},
 "nbformat": 4,
 "nbformat_minor": 5
}
