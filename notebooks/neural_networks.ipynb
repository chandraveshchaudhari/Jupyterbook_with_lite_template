{
 "cells": [
  {
   "cell_type": "markdown",
   "id": "52086ef6",
   "metadata": {},
   "source": [
    "# Neural Networks & Applied Deep Learning"
   ]
  },
  {
   "cell_type": "code",
   "execution_count": null,
   "id": "e227ed0d",
   "metadata": {},
   "outputs": [],
   "source": [
    "# Your code here"
   ]
  }
 ],
 "metadata": {},
 "nbformat": 4,
 "nbformat_minor": 5
}
