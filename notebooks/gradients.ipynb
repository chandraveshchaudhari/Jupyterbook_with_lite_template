{
 "cells": [
  {
   "cell_type": "markdown",
   "id": "a69b92ca",
   "metadata": {},
   "source": [
    "# Gradients & Partial Derivatives"
   ]
  },
  {
   "cell_type": "code",
   "execution_count": null,
   "id": "ef99ae76",
   "metadata": {},
   "outputs": [],
   "source": [
    "# Your code here"
   ]
  }
 ],
 "metadata": {},
 "nbformat": 4,
 "nbformat_minor": 5
}
