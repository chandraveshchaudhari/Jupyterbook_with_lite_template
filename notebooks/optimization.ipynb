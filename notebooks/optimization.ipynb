{
 "cells": [
  {
   "cell_type": "markdown",
   "id": "7b73e1f1",
   "metadata": {},
   "source": [
    "# Optimization & Training Practicalities"
   ]
  },
  {
   "cell_type": "code",
   "execution_count": null,
   "id": "f9d7191c",
   "metadata": {},
   "outputs": [],
   "source": [
    "# Your code here"
   ]
  }
 ],
 "metadata": {},
 "nbformat": 4,
 "nbformat_minor": 5
}
