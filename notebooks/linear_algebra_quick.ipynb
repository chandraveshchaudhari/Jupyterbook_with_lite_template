{
 "cells": [
  {
   "cell_type": "markdown",
   "id": "33113a81",
   "metadata": {},
   "source": [
    "# Quick Linear Algebra"
   ]
  },
  {
   "cell_type": "code",
   "execution_count": null,
   "id": "7c101d7d",
   "metadata": {},
   "outputs": [],
   "source": [
    "# Your code here"
   ]
  }
 ],
 "metadata": {},
 "nbformat": 4,
 "nbformat_minor": 5
}
