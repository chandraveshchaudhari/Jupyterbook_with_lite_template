{
 "cells": [
  {
   "cell_type": "markdown",
   "id": "d794b36d",
   "metadata": {},
   "source": [
    "# OLS & Normal Equations"
   ]
  },
  {
   "cell_type": "code",
   "execution_count": null,
   "id": "ce509e73",
   "metadata": {},
   "outputs": [],
   "source": [
    "# Your code here"
   ]
  }
 ],
 "metadata": {},
 "nbformat": 4,
 "nbformat_minor": 5
}
