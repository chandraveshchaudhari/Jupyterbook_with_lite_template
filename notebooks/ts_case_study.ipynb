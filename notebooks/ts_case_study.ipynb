{
 "cells": [
  {
   "cell_type": "markdown",
   "id": "b500555f",
   "metadata": {},
   "source": [
    "# Case Study – Inventory Planning"
   ]
  },
  {
   "cell_type": "code",
   "execution_count": null,
   "id": "283eeb36",
   "metadata": {},
   "outputs": [],
   "source": [
    "# Your code here"
   ]
  }
 ],
 "metadata": {},
 "nbformat": 4,
 "nbformat_minor": 5
}
