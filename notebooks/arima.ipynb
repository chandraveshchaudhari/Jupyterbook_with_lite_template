{
 "cells": [
  {
   "cell_type": "markdown",
   "id": "8fc3a620",
   "metadata": {},
   "source": [
    "# ARIMA / SARIMA"
   ]
  },
  {
   "cell_type": "code",
   "execution_count": null,
   "id": "6e5222eb",
   "metadata": {},
   "outputs": [],
   "source": [
    "# Your code here"
   ]
  }
 ],
 "metadata": {},
 "nbformat": 4,
 "nbformat_minor": 5
}
