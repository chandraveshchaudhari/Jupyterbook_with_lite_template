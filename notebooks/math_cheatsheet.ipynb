{
 "cells": [
  {
   "cell_type": "markdown",
   "id": "a3c8cd4d",
   "metadata": {},
   "source": [
    "# Math Cheat-Sheet (Worked Examples)"
   ]
  },
  {
   "cell_type": "code",
   "execution_count": null,
   "id": "36c70deb",
   "metadata": {},
   "outputs": [],
   "source": [
    "# Your code here"
   ]
  }
 ],
 "metadata": {},
 "nbformat": 4,
 "nbformat_minor": 5
}
