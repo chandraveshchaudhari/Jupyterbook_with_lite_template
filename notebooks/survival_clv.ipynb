{
 "cells": [
  {
   "cell_type": "markdown",
   "id": "5855f5c0",
   "metadata": {},
   "source": [
    "# Survival Analysis & Customer Lifetime Value"
   ]
  },
  {
   "cell_type": "code",
   "execution_count": null,
   "id": "746fc1ec",
   "metadata": {},
   "outputs": [],
   "source": [
    "# Your code here"
   ]
  }
 ],
 "metadata": {},
 "nbformat": 4,
 "nbformat_minor": 5
}
