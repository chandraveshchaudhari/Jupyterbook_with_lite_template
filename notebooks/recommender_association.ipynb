{
 "cells": [
  {
   "cell_type": "markdown",
   "id": "53895c4b",
   "metadata": {},
   "source": [
    "# Recommender Systems & Association Rules"
   ]
  },
  {
   "cell_type": "code",
   "execution_count": null,
   "id": "f295254e",
   "metadata": {},
   "outputs": [],
   "source": [
    "# Your code here"
   ]
  }
 ],
 "metadata": {},
 "nbformat": 4,
 "nbformat_minor": 5
}
