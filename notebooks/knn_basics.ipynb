{
 "cells": [
  {
   "cell_type": "markdown",
   "id": "f50c4372",
   "metadata": {},
   "source": [
    "# KNN Basics"
   ]
  },
  {
   "cell_type": "code",
   "execution_count": null,
   "id": "4f83331e",
   "metadata": {},
   "outputs": [],
   "source": [
    "# Your code here"
   ]
  }
 ],
 "metadata": {},
 "nbformat": 4,
 "nbformat_minor": 5
}
