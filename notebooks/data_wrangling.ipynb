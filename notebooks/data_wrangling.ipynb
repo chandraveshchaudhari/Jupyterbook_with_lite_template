{
 "cells": [
  {
   "cell_type": "markdown",
   "id": "cfba5eae",
   "metadata": {},
   "source": [
    "# Data Loading, Wrangling & Visualisation"
   ]
  },
  {
   "cell_type": "code",
   "execution_count": null,
   "id": "2fb570cc",
   "metadata": {},
   "outputs": [],
   "source": [
    "# Your code here"
   ]
  }
 ],
 "metadata": {},
 "nbformat": 4,
 "nbformat_minor": 5
}
