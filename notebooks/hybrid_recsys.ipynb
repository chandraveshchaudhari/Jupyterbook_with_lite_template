{
 "cells": [
  {
   "cell_type": "markdown",
   "id": "09e16337",
   "metadata": {},
   "source": [
    "# Hybrid Recommenders"
   ]
  },
  {
   "cell_type": "code",
   "execution_count": null,
   "id": "e74f37af",
   "metadata": {},
   "outputs": [],
   "source": [
    "# Your code here"
   ]
  }
 ],
 "metadata": {},
 "nbformat": 4,
 "nbformat_minor": 5
}
