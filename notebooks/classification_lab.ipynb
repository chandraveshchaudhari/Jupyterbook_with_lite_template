{
 "cells": [
  {
   "cell_type": "markdown",
   "id": "64197925",
   "metadata": {},
   "source": [
    "# Lab – Churn Prediction"
   ]
  },
  {
   "cell_type": "code",
   "execution_count": null,
   "id": "9276cc35",
   "metadata": {},
   "outputs": [],
   "source": [
    "# Your code here"
   ]
  }
 ],
 "metadata": {},
 "nbformat": 4,
 "nbformat_minor": 5
}
